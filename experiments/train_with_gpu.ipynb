{
 "cells": [
  {
   "cell_type": "code",
   "execution_count": 2,
   "metadata": {},
   "outputs": [
    {
     "name": "stdout",
     "output_type": "stream",
     "text": [
      "/workspace\n"
     ]
    }
   ],
   "source": [
    "import os\n",
    "os.chdir(\"/workspace\")\n",
    "! pwd"
   ]
  },
  {
   "cell_type": "code",
   "execution_count": 3,
   "metadata": {},
   "outputs": [],
   "source": [
    "import torch\n",
    "from src.Transformer import * "
   ]
  },
  {
   "cell_type": "code",
   "execution_count": 4,
   "metadata": {},
   "outputs": [],
   "source": [
    "from datasets import load_dataset\n",
    "\n",
    "ds = load_dataset(\"wmt/wmt14\", \"de-en\")"
   ]
  },
  {
   "cell_type": "code",
   "execution_count": 5,
   "metadata": {},
   "outputs": [
    {
     "name": "stdout",
     "output_type": "stream",
     "text": [
      "['Resumption of the session', 'I declare resumed the session of the European Parliament adjourned on Friday 17 December 1999, and I would like once again to wish you a happy new year in the hope that you enjoyed a pleasant festive period.', \"Although, as you will have seen, the dreaded 'millennium bug' failed to materialise, still the people in a number of countries suffered a series of natural disasters that truly were dreadful.\", 'You have requested a debate on this subject in the course of the next few days, during this part-session.']\n"
     ]
    }
   ],
   "source": [
    "from torch.utils.data import DataLoader\n",
    "\n",
    "trainDataLoader = DataLoader(ds['train'], batch_size=4)\n",
    "example = next(iter(trainDataLoader))[\"translation\"]\n",
    "exampleEn = example['en']\n",
    "exampleDe = example['de']\n",
    "\n",
    "print(exampleEn)"
   ]
  },
  {
   "cell_type": "code",
   "execution_count": 9,
   "metadata": {},
   "outputs": [
    {
     "name": "stdout",
     "output_type": "stream",
     "text": [
      "\n",
      "\n",
      "\n",
      "[22, 30, 27, 22, 2, 28, 33]\n",
      "['s', 'enten', 'ce', 's', ' ', 'is', ' sentence']\n"
     ]
    }
   ],
   "source": [
    "from tokenizers import Tokenizer\n",
    "from tokenizers.models import BPE\n",
    "from tokenizers.trainers import BpeTrainer\n",
    "\n",
    "# Initialize a BPE tokenizer\n",
    "tokenizer = Tokenizer(BPE())\n",
    "trainer = BpeTrainer(special_tokens=[\"<|endofword|>\",\"<|endoftext|>\"])\n",
    "\n",
    "# Train the tokenizer on your dataset\n",
    "dataset = [\"This is a sample sentence.\", \"Another sentence for BPE tokenization.\"]\n",
    "tokenizer.train_from_iterator(dataset, trainer)\n",
    "\n",
    "# Encode a text\n",
    "encoded = tokenizer.encode(\"sentences is sentence\")\n",
    "print(encoded.ids)\n",
    "print(encoded.tokens)  # Output: tokenized using BPE"
   ]
  },
  {
   "cell_type": "code",
   "execution_count": 11,
   "metadata": {},
   "outputs": [
    {
     "name": "stdout",
     "output_type": "stream",
     "text": [
      "\n",
      "\n",
      "\n"
     ]
    }
   ],
   "source": [
    "from src.TokenizerPadder import *\n",
    "\n",
    "tokenizer = TokenizerPadder(\"<|endofword|>\",\"<|endoftext|>\")\n",
    "tokenizer.train(dataset)"
   ]
  },
  {
   "cell_type": "code",
   "execution_count": 12,
   "metadata": {},
   "outputs": [
    {
     "data": {
      "text/plain": [
       "[[40, 28, 0, 2, 28, 0, 2, 9, 0, 26, 41, 20, 16, 11, 0, 33, 3, 0, 1],\n",
       " [59, 46, 0, 33, 0, 35, 52, 0, 34, 7, 6, 0, 36, 67, 51, 0, 1, 1, 1]]"
      ]
     },
     "execution_count": 12,
     "metadata": {},
     "output_type": "execute_result"
    }
   ],
   "source": [
    "tokenizer.encodeBatch(dataset)"
   ]
  },
  {
   "cell_type": "code",
   "execution_count": null,
   "metadata": {},
   "outputs": [],
   "source": []
  }
 ],
 "metadata": {
  "kernelspec": {
   "display_name": "Python 3",
   "language": "python",
   "name": "python3"
  },
  "language_info": {
   "codemirror_mode": {
    "name": "ipython",
    "version": 3
   },
   "file_extension": ".py",
   "mimetype": "text/x-python",
   "name": "python",
   "nbconvert_exporter": "python",
   "pygments_lexer": "ipython3",
   "version": "3.10.9"
  }
 },
 "nbformat": 4,
 "nbformat_minor": 2
}
