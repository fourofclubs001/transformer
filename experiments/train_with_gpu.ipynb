{
 "cells": [
  {
   "cell_type": "code",
   "execution_count": 1,
   "metadata": {},
   "outputs": [
    {
     "name": "stdout",
     "output_type": "stream",
     "text": [
      "/workspace\n"
     ]
    }
   ],
   "source": [
    "import os\n",
    "os.chdir(\"/workspace\")\n",
    "! pwd"
   ]
  },
  {
   "cell_type": "code",
   "execution_count": 2,
   "metadata": {},
   "outputs": [],
   "source": [
    "import torch\n",
    "from src.Transformer import * "
   ]
  },
  {
   "cell_type": "code",
   "execution_count": 3,
   "metadata": {},
   "outputs": [],
   "source": [
    "from datasets import load_dataset\n",
    "\n",
    "ds = load_dataset(\"wmt/wmt14\", \"de-en\")"
   ]
  },
  {
   "cell_type": "code",
   "execution_count": 4,
   "metadata": {},
   "outputs": [
    {
     "name": "stdout",
     "output_type": "stream",
     "text": [
      "['Resumption of the session', 'I declare resumed the session of the European Parliament adjourned on Friday 17 December 1999, and I would like once again to wish you a happy new year in the hope that you enjoyed a pleasant festive period.', \"Although, as you will have seen, the dreaded 'millennium bug' failed to materialise, still the people in a number of countries suffered a series of natural disasters that truly were dreadful.\", 'You have requested a debate on this subject in the course of the next few days, during this part-session.', \"In the meantime, I should like to observe a minute' s silence, as a number of Members have requested, on behalf of all the victims concerned, particularly those of the terrible storms, in the various countries of the European Union.\", \"Please rise, then, for this minute' s silence.\", \"(The House rose and observed a minute' s silence)\", 'Madam President, on a point of order.', 'You will be aware from the press and television that there have been a number of bomb explosions and killings in Sri Lanka.', 'One of the people assassinated very recently in Sri Lanka was Mr Kumar Ponnambalam, who had visited the European Parliament just a few months ago.', \"Would it be appropriate for you, Madam President, to write a letter to the Sri Lankan President expressing Parliament's regret at his and the other violent deaths in Sri Lanka and urging her to do everything she possibly can to seek a peaceful reconciliation to a very difficult situation?\", 'Yes, Mr Evans, I feel an initiative of the type you have just suggested would be entirely appropriate.', 'If the House agrees, I shall do as Mr Evans has suggested.', 'Madam President, on a point of order.', 'I would like your advice about Rule 143 concerning inadmissibility.', 'My question relates to something that will come up on Thursday and which I will then raise again.']\n"
     ]
    }
   ],
   "source": [
    "from torch.utils.data import DataLoader\n",
    "\n",
    "trainDataLoader = DataLoader(ds['train'], batch_size=16)\n",
    "example = next(iter(trainDataLoader))[\"translation\"]\n",
    "exampleEn = example['en']\n",
    "exampleDe = example['de']\n",
    "\n",
    "print(exampleEn)"
   ]
  },
  {
   "cell_type": "code",
   "execution_count": 5,
   "metadata": {},
   "outputs": [
    {
     "name": "stdout",
     "output_type": "stream",
     "text": [
      "\n",
      "\n",
      "\n"
     ]
    }
   ],
   "source": [
    "from src.TokenizerPadder import *\n",
    "\n",
    "tokenizer = TokenizerPadder(\"<|endofword|>\",\"<|endoftext|>\")\n",
    "tokenizer.train(exampleEn)"
   ]
  },
  {
   "cell_type": "code",
   "execution_count": 6,
   "metadata": {},
   "outputs": [
    {
     "data": {
      "text/plain": [
       "['Resumption<|endofword|> of<|endofword|> the<|endofword|> session<|endofword|><|endoftext|>',\n",
       " 'I<|endofword|> declare<|endofword|> resumed<|endofword|> the<|endofword|> session<|endofword|> of<|endofword|> the<|endofword|> European<|endofword|> Parliament<|endofword|> adjourned<|endofword|> on<|endofword|> Friday<|endofword|> 17<|endofword|> December<|endofword|> 1999,<|endofword|> and<|endofword|> I<|endofword|> would<|endofword|> like<|endofword|> once<|endofword|> again<|endofword|> to<|endofword|> wish<|endofword|> you<|endofword|> a<|endofword|> happy<|endofword|> new<|endofword|> year<|endofword|> in<|endofword|> the<|endofword|> hope<|endofword|> that<|endofword|> you<|endofword|> enjoyed<|endofword|> a<|endofword|> pleasant<|endofword|> festive<|endofword|> period.<|endofword|><|endoftext|>',\n",
       " \"Although,<|endofword|> as<|endofword|> you<|endofword|> will<|endofword|> have<|endofword|> seen,<|endofword|> the<|endofword|> dreaded<|endofword|> 'millennium<|endofword|> bug'<|endofword|> failed<|endofword|> to<|endofword|> materialise,<|endofword|> still<|endofword|> the<|endofword|> people<|endofword|> in<|endofword|> a<|endofword|> number<|endofword|> of<|endofword|> countries<|endofword|> suffered<|endofword|> a<|endofword|> series<|endofword|> of<|endofword|> natural<|endofword|> disasters<|endofword|> that<|endofword|> truly<|endofword|> were<|endofword|> dreadful.<|endofword|><|endoftext|>\",\n",
       " 'You<|endofword|> have<|endofword|> requested<|endofword|> a<|endofword|> debate<|endofword|> on<|endofword|> this<|endofword|> subject<|endofword|> in<|endofword|> the<|endofword|> course<|endofword|> of<|endofword|> the<|endofword|> next<|endofword|> few<|endofword|> days,<|endofword|> during<|endofword|> this<|endofword|> part-session.<|endofword|><|endoftext|>',\n",
       " \"In<|endofword|> the<|endofword|> meantime,<|endofword|> I<|endofword|> should<|endofword|> like<|endofword|> to<|endofword|> observe<|endofword|> a<|endofword|> minute'<|endofword|> s<|endofword|> silence,<|endofword|> as<|endofword|> a<|endofword|> number<|endofword|> of<|endofword|> Members<|endofword|> have<|endofword|> requested,<|endofword|> on<|endofword|> behalf<|endofword|> of<|endofword|> all<|endofword|> the<|endofword|> victims<|endofword|> concerned,<|endofword|> particularly<|endofword|> those<|endofword|> of<|endofword|> the<|endofword|> terrible<|endofword|> storms,<|endofword|> in<|endofword|> the<|endofword|> various<|endofword|> countries<|endofword|> of<|endofword|> the<|endofword|> European<|endofword|> Union.<|endofword|><|endoftext|>\",\n",
       " \"Please<|endofword|> rise,<|endofword|> then,<|endofword|> for<|endofword|> this<|endofword|> minute'<|endofword|> s<|endofword|> silence.<|endofword|><|endoftext|>\",\n",
       " \"(The<|endofword|> House<|endofword|> rose<|endofword|> and<|endofword|> observed<|endofword|> a<|endofword|> minute'<|endofword|> s<|endofword|> silence)<|endofword|><|endoftext|>\",\n",
       " 'Madam<|endofword|> President,<|endofword|> on<|endofword|> a<|endofword|> point<|endofword|> of<|endofword|> order.<|endofword|><|endoftext|>',\n",
       " 'You<|endofword|> will<|endofword|> be<|endofword|> aware<|endofword|> from<|endofword|> the<|endofword|> press<|endofword|> and<|endofword|> television<|endofword|> that<|endofword|> there<|endofword|> have<|endofword|> been<|endofword|> a<|endofword|> number<|endofword|> of<|endofword|> bomb<|endofword|> explosions<|endofword|> and<|endofword|> killings<|endofword|> in<|endofword|> Sri<|endofword|> Lanka.<|endofword|><|endoftext|>',\n",
       " 'One<|endofword|> of<|endofword|> the<|endofword|> people<|endofword|> assassinated<|endofword|> very<|endofword|> recently<|endofword|> in<|endofword|> Sri<|endofword|> Lanka<|endofword|> was<|endofword|> Mr<|endofword|> Kumar<|endofword|> Ponnambalam,<|endofword|> who<|endofword|> had<|endofword|> visited<|endofword|> the<|endofword|> European<|endofword|> Parliament<|endofword|> just<|endofword|> a<|endofword|> few<|endofword|> months<|endofword|> ago.<|endofword|><|endoftext|>',\n",
       " \"Would<|endofword|> it<|endofword|> be<|endofword|> appropriate<|endofword|> for<|endofword|> you,<|endofword|> Madam<|endofword|> President,<|endofword|> to<|endofword|> write<|endofword|> a<|endofword|> letter<|endofword|> to<|endofword|> the<|endofword|> Sri<|endofword|> Lankan<|endofword|> President<|endofword|> expressing<|endofword|> Parliament's<|endofword|> regret<|endofword|> at<|endofword|> his<|endofword|> and<|endofword|> the<|endofword|> other<|endofword|> violent<|endofword|> deaths<|endofword|> in<|endofword|> Sri<|endofword|> Lanka<|endofword|> and<|endofword|> urging<|endofword|> her<|endofword|> to<|endofword|> do<|endofword|> everything<|endofword|> she<|endofword|> possibly<|endofword|> can<|endofword|> to<|endofword|> seek<|endofword|> a<|endofword|> peaceful<|endofword|> reconciliation<|endofword|> to<|endofword|> a<|endofword|> very<|endofword|> difficult<|endofword|> situation?<|endofword|><|endoftext|>\",\n",
       " 'Yes,<|endofword|> Mr<|endofword|> Evans,<|endofword|> I<|endofword|> feel<|endofword|> an<|endofword|> initiative<|endofword|> of<|endofword|> the<|endofword|> type<|endofword|> you<|endofword|> have<|endofword|> just<|endofword|> suggested<|endofword|> would<|endofword|> be<|endofword|> entirely<|endofword|> appropriate.<|endofword|><|endoftext|>',\n",
       " 'If<|endofword|> the<|endofword|> House<|endofword|> agrees,<|endofword|> I<|endofword|> shall<|endofword|> do<|endofword|> as<|endofword|> Mr<|endofword|> Evans<|endofword|> has<|endofword|> suggested.<|endofword|><|endoftext|>',\n",
       " 'Madam<|endofword|> President,<|endofword|> on<|endofword|> a<|endofword|> point<|endofword|> of<|endofword|> order.<|endofword|><|endoftext|>',\n",
       " 'I<|endofword|> would<|endofword|> like<|endofword|> your<|endofword|> advice<|endofword|> about<|endofword|> Rule<|endofword|> 143<|endofword|> concerning<|endofword|> inadmissibility.<|endofword|><|endoftext|>',\n",
       " 'My<|endofword|> question<|endofword|> relates<|endofword|> to<|endofword|> something<|endofword|> that<|endofword|> will<|endofword|> come<|endofword|> up<|endofword|> on<|endofword|> Thursday<|endofword|> and<|endofword|> which<|endofword|> I<|endofword|> will<|endofword|> then<|endofword|> raise<|endofword|> again.<|endofword|><|endoftext|>']"
      ]
     },
     "execution_count": 6,
     "metadata": {},
     "output_type": "execute_result"
    }
   ],
   "source": [
    "encoded = tokenizer.encodeBatch(exampleEn)\n",
    "decoded = tokenizer.decodeBatch(encoded)\n",
    "decoded"
   ]
  },
  {
   "cell_type": "code",
   "execution_count": 7,
   "metadata": {},
   "outputs": [],
   "source": [
    "encodedInput = torch.Tensor(encoded)"
   ]
  },
  {
   "cell_type": "code",
   "execution_count": 8,
   "metadata": {},
   "outputs": [
    {
     "data": {
      "text/plain": [
       "torch.Size([16, 164])"
      ]
     },
     "execution_count": 8,
     "metadata": {},
     "output_type": "execute_result"
    }
   ],
   "source": [
    "encodedInput.shape"
   ]
  },
  {
   "cell_type": "code",
   "execution_count": null,
   "metadata": {},
   "outputs": [],
   "source": []
  }
 ],
 "metadata": {
  "kernelspec": {
   "display_name": "Python 3",
   "language": "python",
   "name": "python3"
  },
  "language_info": {
   "codemirror_mode": {
    "name": "ipython",
    "version": 3
   },
   "file_extension": ".py",
   "mimetype": "text/x-python",
   "name": "python",
   "nbconvert_exporter": "python",
   "pygments_lexer": "ipython3",
   "version": "3.10.9"
  }
 },
 "nbformat": 4,
 "nbformat_minor": 2
}
