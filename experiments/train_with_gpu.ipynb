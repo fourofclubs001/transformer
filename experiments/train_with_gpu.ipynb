{
 "cells": [
  {
   "cell_type": "code",
   "execution_count": 1,
   "metadata": {},
   "outputs": [
    {
     "name": "stdout",
     "output_type": "stream",
     "text": [
      "/workspace\n"
     ]
    }
   ],
   "source": [
    "import os\n",
    "os.chdir(\"/workspace\")\n",
    "! pwd"
   ]
  },
  {
   "cell_type": "code",
   "execution_count": 2,
   "metadata": {},
   "outputs": [],
   "source": [
    "from src.RedisDataset import *\n",
    "\n",
    "trainDataset = RedisDataset(\"redis-deployment\", 6379, \"train\", \"en\", \"de\")\n",
    "trainDataset.load(\"dataset_wmt_2014_de_en/test.csv\")\n",
    "\n",
    "testDataset = RedisDataset(\"redis-deployment\", 6379, \"test\", \"en\", \"de\")\n",
    "testDataset.load(\"dataset_wmt_2014_de_en/test.csv\")"
   ]
  },
  {
   "cell_type": "code",
   "execution_count": 5,
   "metadata": {},
   "outputs": [],
   "source": [
    "from torch.utils.data import DataLoader\n",
    "\n",
    "trainDataloader = DataLoader(trainDataset)\n",
    "testDataloader = DataLoader(testDataset)"
   ]
  },
  {
   "cell_type": "code",
   "execution_count": 8,
   "metadata": {},
   "outputs": [],
   "source": [
    "from src.TokenizerPadder import *\n",
    "\n",
    "tokenizer = TokenizerPadder(\"<|endofword|>\", \"<|endoftext|>\")\n",
    "tokenizer.train(testDataset)"
   ]
  },
  {
   "cell_type": "code",
   "execution_count": 11,
   "metadata": {},
   "outputs": [
    {
     "data": {
      "text/plain": [
       "3003"
      ]
     },
     "execution_count": 11,
     "metadata": {},
     "output_type": "execute_result"
    }
   ],
   "source": [
    "len(testDataset)"
   ]
  },
  {
   "cell_type": "code",
   "execution_count": 13,
   "metadata": {},
   "outputs": [],
   "source": [
    "maxSequenceLenght = 0\n",
    "\n",
    "for idx in range(len(testDataset)):\n",
    "\n",
    "    englishSequence = testDataset[idx][0]\n",
    "    encoded = tokenizer.encode(englishSequence)\n",
    "    sequenceLenght = len(encoded)\n",
    "\n",
    "    if maxSequenceLenght < sequenceLenght:\n",
    "\n",
    "        maxSequenceLenght = sequenceLenght"
   ]
  },
  {
   "cell_type": "code",
   "execution_count": 10,
   "metadata": {},
   "outputs": [
    {
     "data": {
      "text/plain": [
       "0"
      ]
     },
     "execution_count": 10,
     "metadata": {},
     "output_type": "execute_result"
    }
   ],
   "source": [
    "maxSequenceLenght"
   ]
  },
  {
   "cell_type": "code",
   "execution_count": null,
   "metadata": {},
   "outputs": [],
   "source": [
    "from src.Transformer import *\n",
    "\n",
    "transformer = Transformer()"
   ]
  }
 ],
 "metadata": {
  "kernelspec": {
   "display_name": "Python 3",
   "language": "python",
   "name": "python3"
  },
  "language_info": {
   "codemirror_mode": {
    "name": "ipython",
    "version": 3
   },
   "file_extension": ".py",
   "mimetype": "text/x-python",
   "name": "python",
   "nbconvert_exporter": "python",
   "pygments_lexer": "ipython3",
   "version": "3.10.9"
  }
 },
 "nbformat": 4,
 "nbformat_minor": 2
}
